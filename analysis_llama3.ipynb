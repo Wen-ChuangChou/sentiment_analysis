{
 "cells": [
  {
   "cell_type": "code",
   "execution_count": 1,
   "id": "db635cc1",
   "metadata": {},
   "outputs": [
    {
     "name": "stderr",
     "output_type": "stream",
     "text": [
      "c:\\ProgramData\\anaconda3\\envs\\Fn_LLM\\Lib\\site-packages\\tqdm\\auto.py:21: TqdmWarning: IProgress not found. Please update jupyter and ipywidgets. See https://ipywidgets.readthedocs.io/en/stable/user_install.html\n",
      "  from .autonotebook import tqdm as notebook_tqdm\n"
     ]
    }
   ],
   "source": [
    "from transformers import AutoTokenizer\n",
    "from datasets import load_dataset\n",
    "import torch"
   ]
  },
  {
   "cell_type": "code",
   "execution_count": null,
   "id": "6afe5623",
   "metadata": {},
   "outputs": [],
   "source": [
    "# Fix Random Seeds\n",
    "seed = 42\n",
    "torch.backends.cudnn.deterministic = True\n",
    "torch.backends.cudnn.benchmark = False\n",
    "torch.manual_seed(seed)\n",
    "if torch.cuda.is_available():\n",
    "    torch.cuda.manual_seed_all(seed)"
   ]
  },
  {
   "cell_type": "code",
   "execution_count": 8,
   "id": "5853918c-8a29-4599-8110-6ebc717317c7",
   "metadata": {},
   "outputs": [],
   "source": [
    "model_name = r\"C:\\LLMs\\Meta-Llama-3-8B-Instruct\"\n",
    "# model_name = \"./Meta-Llama-3-8B-Instruct\"\n",
    "data_path = \"mteb/tweet_sentiment_extraction\"\n",
    "cache_dir = \"./cache\"\n"
   ]
  },
  {
   "cell_type": "code",
   "execution_count": 9,
   "id": "6d587e66",
   "metadata": {},
   "outputs": [
    {
     "name": "stderr",
     "output_type": "stream",
     "text": [
      "Using the latest cached version of the dataset since mteb/tweet_sentiment_extraction couldn't be found on the Hugging Face Hub\n",
      "Found the latest cached dataset configuration 'default' at C:\\Users\\Philippe\\.cache\\huggingface\\datasets\\mteb___tweet_sentiment_extraction\\default\\0.0.0\\62146448f05be9e52a36b8ee9936447ea787eede (last modified on Tue Jun 25 12:02:54 2024).\n",
      "Special tokens have been added in the vocabulary, make sure the associated word embeddings are fine-tuned or trained.\n"
     ]
    }
   ],
   "source": [
    "dataset = load_dataset(data_path)\n",
    "tokenizer = AutoTokenizer.from_pretrained(model_name,\n",
    "                                          add_eos_token=True,\n",
    "                                          cache_dir=cache_dir)"
   ]
  },
  {
   "cell_type": "code",
   "execution_count": 14,
   "id": "9b23eb6e",
   "metadata": {},
   "outputs": [
    {
     "name": "stdout",
     "output_type": "stream",
     "text": [
      "[128009, 128009]\n"
     ]
    }
   ],
   "source": [
    "terminators = [\n",
    "    tokenizer.eos_token_id,\n",
    "    tokenizer.convert_tokens_to_ids(\"<|eot_id|>\")\n",
    "]\n",
    "print(terminators)"
   ]
  },
  {
   "cell_type": "code",
   "execution_count": 11,
   "id": "35a4f37e",
   "metadata": {},
   "outputs": [
    {
     "name": "stdout",
     "output_type": "stream",
     "text": [
      "Pad Token id: 128000 and Pad Token: <|begin_of_text|>\n",
      "EOS Token id: 128009 and EOS Token: <|eot_id|>\n"
     ]
    }
   ],
   "source": [
    "print(\n",
    "    f\"Pad Token id: {tokenizer.bos_token_id} and Pad Token: {tokenizer.bos_token}\"\n",
    ")\n",
    "print(\n",
    "    f\"EOS Token id: {tokenizer.eos_token_id} and EOS Token: {tokenizer.eos_token}\"\n",
    ")"
   ]
  },
  {
   "cell_type": "code",
   "execution_count": null,
   "id": "26f18684",
   "metadata": {},
   "outputs": [],
   "source": [
    "tokenizer.pad_token = tokenizer.eos_token\n",
    "def tokenizer_function(examples):\n",
    "    return tokenizer(examples['text'], truncation=True)   \n",
    "# apply tokenizer function on your data\n",
    "tokenized_data = dataset.map(tokenizer_function, batched=True)"
   ]
  },
  {
   "cell_type": "code",
   "execution_count": 2,
   "id": "9eebcf2d",
   "metadata": {},
   "outputs": [],
   "source": [
    "# select train and test data, use 1000 entries for each set\n",
    "train = tokenized_data['train'].select(range(1000))\n",
    "test = tokenized_data['test'].select(range(1000))"
   ]
  },
  {
   "cell_type": "code",
   "execution_count": 3,
   "id": "d45bbd28",
   "metadata": {},
   "outputs": [
    {
     "name": "stderr",
     "output_type": "stream",
     "text": [
      "/opt/conda/lib/python3.11/site-packages/huggingface_hub/file_download.py:1132: FutureWarning: `resume_download` is deprecated and will be removed in version 1.0.0. Downloads always resume when possible. If you want to force a new download, use `force_download=True`.\n",
      "  warnings.warn(\n",
      "Some weights of GPT2ForSequenceClassification were not initialized from the model checkpoint at gpt2 and are newly initialized: ['score.weight']\n",
      "You should probably TRAIN this model on a down-stream task to be able to use it for predictions and inference.\n"
     ]
    }
   ],
   "source": [
    "from transformers import DataCollatorWithPadding, GPT2Config, GPT2ForSequenceClassification\n",
    "## When training a transformer model,\n",
    "# it’s common to batch sequences together for more efficient processing.\n",
    "# However, since sequences might have different lengths, they need to be padded to a common length within each batch.\n",
    "#The DataCollatorWithPadding class automates this process. \n",
    "\n",
    "#define the collator, use DataCollatorWithPadding() with the defined tokenizer above\n",
    "data_collator = DataCollatorWithPadding(tokenizer=tokenizer)\n",
    "config = GPT2Config()\n",
    "\n",
    "#define GPT classifier, use 'gpt2' pretrained LLM, we have 3 classes in our dataset \n",
    "\n",
    "model = GPT2ForSequenceClassification.from_pretrained(\"gpt2\", num_labels=3)\n",
    "model.config.pad_token_id = model.config.eos_token_id "
   ]
  },
  {
   "cell_type": "code",
   "execution_count": 4,
   "id": "b8c39b3e",
   "metadata": {},
   "outputs": [],
   "source": [
    "import evaluate\n",
    "import numpy as np\n",
    "\n",
    "# load the accuracy metric\n",
    "metric = evaluate.load(\"accuracy\")\n",
    "\n",
    "def acc(eval_pred):\n",
    "    logits, labels = eval_pred\n",
    "    predictions = np.argmax(logits, axis=-1)\n",
    "    return metric.compute(predictions=predictions, references=labels)"
   ]
  },
  {
   "cell_type": "code",
   "execution_count": 5,
   "id": "6e6ee27f",
   "metadata": {},
   "outputs": [
    {
     "name": "stderr",
     "output_type": "stream",
     "text": [
      "Detected kernel version 4.18.0, which is below the recommended minimum of 5.5.0; this can cause the process to hang. It is recommended to upgrade the kernel to the minimum version or higher.\n"
     ]
    }
   ],
   "source": [
    "from transformers import TrainingArguments, Trainer\n",
    "\n",
    "# training arguments: https://huggingface.co/docs/transformers/v4.40.2/en/main_classes/trainer#transformers.TrainingArguments\n",
    "# set per_device_train_batch_size  per_device_eval_batch_size as 8,\n",
    "# we will fine tune gpt model for 30 epochs , set the corresponding parameter\n",
    "training_args = TrainingArguments(\n",
    "    output_dir=\"test_trainer\",\n",
    "    #evaluation_strategy=\"epoch\",\n",
    "    per_device_train_batch_size=8,  \n",
    "    per_device_eval_batch_size=8,\n",
    "    num_train_epochs=30, \n",
    "    save_total_limit=2    \n",
    "    #gradient_accumulation_steps=4\n",
    "    )\n",
    "\n",
    "# set the data_collator and training arguments we defined above\n",
    "trainer = Trainer(\n",
    "    model=model,\n",
    "    args=training_args,\n",
    "    train_dataset=train,\n",
    "    eval_dataset=test,\n",
    "    data_collator=data_collator, \n",
    "    compute_metrics=acc,\n",
    "    )"
   ]
  },
  {
   "cell_type": "code",
   "execution_count": 6,
   "id": "f256c70a",
   "metadata": {},
   "outputs": [
    {
     "data": {
      "text/html": [
       "\n",
       "    <div>\n",
       "      \n",
       "      <progress value='3750' max='3750' style='width:300px; height:20px; vertical-align: middle;'></progress>\n",
       "      [3750/3750 06:58, Epoch 30/30]\n",
       "    </div>\n",
       "    <table border=\"1\" class=\"dataframe\">\n",
       "  <thead>\n",
       " <tr style=\"text-align: left;\">\n",
       "      <th>Step</th>\n",
       "      <th>Training Loss</th>\n",
       "    </tr>\n",
       "  </thead>\n",
       "  <tbody>\n",
       "    <tr>\n",
       "      <td>500</td>\n",
       "      <td>0.626900</td>\n",
       "    </tr>\n",
       "    <tr>\n",
       "      <td>1000</td>\n",
       "      <td>0.104400</td>\n",
       "    </tr>\n",
       "    <tr>\n",
       "      <td>1500</td>\n",
       "      <td>0.008100</td>\n",
       "    </tr>\n",
       "    <tr>\n",
       "      <td>2000</td>\n",
       "      <td>0.002700</td>\n",
       "    </tr>\n",
       "    <tr>\n",
       "      <td>2500</td>\n",
       "      <td>0.001500</td>\n",
       "    </tr>\n",
       "    <tr>\n",
       "      <td>3000</td>\n",
       "      <td>0.001600</td>\n",
       "    </tr>\n",
       "    <tr>\n",
       "      <td>3500</td>\n",
       "      <td>0.001200</td>\n",
       "    </tr>\n",
       "  </tbody>\n",
       "</table><p>"
      ],
      "text/plain": [
       "<IPython.core.display.HTML object>"
      ]
     },
     "metadata": {},
     "output_type": "display_data"
    },
    {
     "data": {
      "text/plain": [
       "TrainOutput(global_step=3750, training_loss=0.09952616239984831, metrics={'train_runtime': 419.4324, 'train_samples_per_second': 71.525, 'train_steps_per_second': 8.941, 'total_flos': 513256776597504.0, 'train_loss': 0.09952616239984831, 'epoch': 30.0})"
      ]
     },
     "execution_count": 6,
     "metadata": {},
     "output_type": "execute_result"
    }
   ],
   "source": [
    "# if it outputs memory error: shut down all kernels or restart kernel\n",
    "# train the model, use train() function\n",
    "trainer.train()"
   ]
  },
  {
   "cell_type": "code",
   "execution_count": 7,
   "id": "e1c066d1",
   "metadata": {},
   "outputs": [
    {
     "data": {
      "text/html": [
       "\n",
       "    <div>\n",
       "      \n",
       "      <progress value='125' max='125' style='width:300px; height:20px; vertical-align: middle;'></progress>\n",
       "      [125/125 00:03]\n",
       "    </div>\n",
       "    "
      ],
      "text/plain": [
       "<IPython.core.display.HTML object>"
      ]
     },
     "metadata": {},
     "output_type": "display_data"
    },
    {
     "data": {
      "text/plain": [
       "{'eval_loss': 3.218705177307129,\n",
       " 'eval_accuracy': 0.703,\n",
       " 'eval_runtime': 3.8726,\n",
       " 'eval_samples_per_second': 258.225,\n",
       " 'eval_steps_per_second': 32.278,\n",
       " 'epoch': 30.0}"
      ]
     },
     "execution_count": 7,
     "metadata": {},
     "output_type": "execute_result"
    }
   ],
   "source": [
    "import evaluate\n",
    "\n",
    "#evaluate the fine tuned model on test data; use evaluate\n",
    "trainer.evaluate()"
   ]
  },
  {
   "cell_type": "code",
   "execution_count": 8,
   "id": "4cd81382",
   "metadata": {},
   "outputs": [
    {
     "name": "stderr",
     "output_type": "stream",
     "text": [
      "/opt/conda/lib/python3.11/site-packages/transformers/pipelines/text_classification.py:104: UserWarning: `return_all_scores` is now deprecated,  if want a similar functionality use `top_k=None` instead of `return_all_scores=True` or `top_k=1` instead of `return_all_scores=False`.\n",
      "  warnings.warn(\n"
     ]
    },
    {
     "data": {
      "text/plain": [
       "[[{'label': 'LABEL_0', 'score': 2.2688107392809798e-08},\n",
       "  {'label': 'LABEL_1', 'score': 6.458856660174206e-05},\n",
       "  {'label': 'LABEL_2', 'score': 0.9999353885650635}]]"
      ]
     },
     "execution_count": 8,
     "metadata": {},
     "output_type": "execute_result"
    }
   ],
   "source": [
    "from transformers import TextClassificationPipeline\n",
    "\n",
    "#test with new data, use TextClassificationPipeline to prepare your input text\n",
    "\n",
    "# This pipeline has a return_all_scores parameter on its __call__ method that allows you to get all scores for each label on a prediction.\n",
    "pipe = TextClassificationPipeline(model=model, tokenizer=tokenizer)\n",
    "# pipe your text here\n",
    "prediction = pipe(\"I find great pleasure in learning through the NLP courses offered by HLRS.\", return_all_scores=True)\n",
    "prediction"
   ]
  }
 ],
 "metadata": {
  "kernelspec": {
   "display_name": "Fn_LLM",
   "language": "python",
   "name": "python3"
  },
  "language_info": {
   "codemirror_mode": {
    "name": "ipython",
    "version": 3
   },
   "file_extension": ".py",
   "mimetype": "text/x-python",
   "name": "python",
   "nbconvert_exporter": "python",
   "pygments_lexer": "ipython3",
   "version": "3.12.3"
  }
 },
 "nbformat": 4,
 "nbformat_minor": 5
}
